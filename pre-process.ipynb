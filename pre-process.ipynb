{
 "cells": [
  {
   "cell_type": "markdown",
   "metadata": {},
   "source": [
    "## Data Processing and Audit"
   ]
  },
  {
   "cell_type": "markdown",
   "metadata": {},
   "source": [
    "### print column name to be load in table"
   ]
  },
  {
   "cell_type": "code",
   "execution_count": 3,
   "metadata": {},
   "outputs": [
    {
     "name": "stdout",
     "output_type": "stream",
     "text": [
      "Institution\n",
      "Course Number\n",
      "Launch Date\n",
      "Course Title\n",
      "Instructors\n",
      "Course Subject\n",
      "Year\n",
      "Honor Code Certificates\n",
      "Participants (Course Content Accessed)\n",
      "Audited (> 50% Course Content Accessed)\n",
      "Certified\n",
      "% Audited\n",
      "% Certified\n",
      "% Certified of > 50% Course Content Accessed\n",
      "% Played Video\n",
      "% Posted in Forum\n",
      "% Grade Higher Than Zero\n",
      "Total Course Hours (Thousands)\n",
      "Median Hours for Certification\n",
      "Median Age\n",
      "% Male\n",
      "% Female\n",
      "% Bachelor's Degree or Higher\n"
     ]
    }
   ],
   "source": [
    "import pandas as pd\n",
    "df = pd.read_csv (r'appendix.csv')\n",
    "pd.set_option('display.max_colwidth', None)\n",
    "for col_name in df.columns: \n",
    "    print(col_name)"
   ]
  },
  {
   "cell_type": "markdown",
   "metadata": {},
   "source": [
    "#### print column to check data type"
   ]
  },
  {
   "cell_type": "code",
   "execution_count": 4,
   "metadata": {},
   "outputs": [
    {
     "name": "stdout",
     "output_type": "stream",
     "text": [
      "     Certified\n",
      "0         3003\n",
      "1         5783\n",
      "2         2082\n",
      "3         1439\n",
      "4         5058\n",
      "..         ...\n",
      "285         20\n",
      "286         20\n",
      "287         49\n",
      "288          8\n",
      "289         38\n",
      "\n",
      "[290 rows x 1 columns]\n"
     ]
    }
   ],
   "source": [
    "print(df[['Certified']])"
   ]
  },
  {
   "cell_type": "markdown",
   "metadata": {},
   "source": [
    "#### check max columns length for table creation"
   ]
  },
  {
   "cell_type": "code",
   "execution_count": 47,
   "metadata": {},
   "outputs": [
    {
     "name": "stdout",
     "output_type": "stream",
     "text": [
      "Institution                                       8\n",
      "Course Number                                    12\n",
      "Launch Date                                      10\n",
      "Course Title                                    111\n",
      "Instructors                                     136\n",
      "Course Subject                                   52\n",
      "Year                                              1\n",
      "Honor Code Certificates                           1\n",
      "Participants (Course Content Accessed)            6\n",
      "Audited (> 50% Course Content Accessed)           5\n",
      "Certified                                         4\n",
      "% Audited                                         5\n",
      "% Certified                                       5\n",
      "% Certified of > 50% Course Content Accessed      5\n",
      "% Played Video                                    5\n",
      "% Posted in Forum                                 5\n",
      "% Grade Higher Than Zero                          5\n",
      "Total Course Hours (Thousands)                    6\n",
      "Median Hours for Certification                    6\n",
      "Median Age                                        4\n",
      "% Male                                            5\n",
      "% Female                                          5\n",
      "% Bachelor's Degree or Higher                     5\n",
      "dtype: int64\n"
     ]
    }
   ],
   "source": [
    "print(pd.Series({c: df[c].map(lambda x: len(str(x))).max() for c in df}))"
   ]
  }
 ],
 "metadata": {
  "interpreter": {
   "hash": "31f2aee4e71d21fbe5cf8b01ff0e069b9275f58929596ceb00d14d90e3e16cd6"
  },
  "kernelspec": {
   "display_name": "Python 3.8.9 64-bit",
   "language": "python",
   "name": "python3"
  },
  "language_info": {
   "codemirror_mode": {
    "name": "ipython",
    "version": 3
   },
   "file_extension": ".py",
   "mimetype": "text/x-python",
   "name": "python",
   "nbconvert_exporter": "python",
   "pygments_lexer": "ipython3",
   "version": "3.8.9"
  },
  "orig_nbformat": 4
 },
 "nbformat": 4,
 "nbformat_minor": 2
}
